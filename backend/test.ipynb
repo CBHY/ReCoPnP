{
 "cells": [
  {
   "cell_type": "code",
   "execution_count": 1,
   "metadata": {},
   "outputs": [
    {
     "name": "stderr",
     "output_type": "stream",
     "text": [
      "c:\\Users\\user\\anaconda3\\envs\\mm\\lib\\site-packages\\mmcv\\__init__.py:20: UserWarning: On January 1, 2023, MMCV will release v2.0.0, in which it will remove components related to the training process and add a data transformation module. In addition, it will rename the package names mmcv to mmcv-lite and mmcv-full to mmcv. See https://github.com/open-mmlab/mmcv/blob/master/docs/en/compatibility.md for more details.\n",
      "  warnings.warn(\n"
     ]
    },
    {
     "name": "stdout",
     "output_type": "stream",
     "text": [
      "load checkpoint from local path: C:\\Users\\user\\Documents\\GitHub\\mmclassification\\work_dir\\resnet\\latest.pth\n"
     ]
    },
    {
     "name": "stderr",
     "output_type": "stream",
     "text": [
      "c:\\users\\user\\documents\\github\\mmclassification\\mmcls\\apis\\inference.py:45: UserWarning: Class names are not saved in the checkpoint's meta data, use imagenet by default.\n",
      "  warnings.warn('Class names are not saved in the checkpoint\\'s '\n"
     ]
    }
   ],
   "source": [
    "import io\n",
    "import os\n",
    "import cv2\n",
    "import uuid\n",
    "import json\n",
    "import torch\n",
    "import numpy as np\n",
    "from fastapi import FastAPI, File, UploadFile\n",
    "from mmcls.apis import init_model, inference_model\n",
    "from PIL import Image\n",
    "from mmcls.datasets.pipelines import Compose, Resize, LoadImageFromFile, RGBToGrayscale, CenterCrop, Normalize, ImageToTensor, Collect\n",
    "from io import BytesIO\n",
    "import base64\n",
    "\n",
    "\n",
    "\n",
    "use_cuda = torch.cuda.is_available()\n",
    "device = \"cuda\" if use_cuda else \"cpu\"\n",
    "config_file = r'C:\\Users\\user\\Documents\\GitHub\\mmclassification\\configs\\resnet\\resnet50_8xb32_in1k copy.py'\n",
    "checkpoint_file = r'C:\\Users\\user\\Documents\\GitHub\\mmclassification\\work_dir\\resnet\\latest.pth'\n",
    "model = init_model(config_file, checkpoint_file, device=device)\n",
    "model.CLASSES = ['Normal', 'Tuberculosis']\n"
   ]
  },
  {
   "cell_type": "code",
   "execution_count": 8,
   "metadata": {},
   "outputs": [],
   "source": [
    "\n",
    "def preprocess_image(image_info):\n",
    "\timg_norm_cfg = dict(mean=[123.675, 116.28, 103.53], std=[58.395, 57.12, 57.375], to_rgb=True)\n",
    "\ttest_pipeline = [\n",
    "\t\tLoadImageFromFile(),\n",
    "\t\tResize(size=(512,512)),\n",
    "\t\tCenterCrop(crop_size=450),\n",
    "\t\tRGBToGrayscale(keys=['img']),\n",
    "\t\tNormalize(**img_norm_cfg),\n",
    "\t\tImageToTensor(keys=['img']),\n",
    "\t\tCollect(keys=['img'])\n",
    "\t]\n",
    "\tpipeline = Compose(test_pipeline)\n",
    "\tprocessed_data = pipeline(image_info)\n",
    "\timage = processed_data['img']\n",
    "\treturn image[np.newaxis, :]\n",
    "\n",
    "def predict_image(file: UploadFile = File(...)):\n",
    "\t# upload_path = r'./uploaded_img'\n",
    "\n",
    "\t# if not os.path.exists(upload_path):\n",
    "\t# \tos.makedirs(upload_path)\n",
    "\t\n",
    "\t# contents = file.read()\n",
    "\t# file_ext = os.path.splitext(file.filename)[-1]\n",
    "\t# unique_filename = f\"{uuid.uuid4().hex}{file_ext}\"\n",
    "\t# image_filepath = os.path.join(upload_path, unique_filename)\n",
    "\n",
    "\t# with open(image_filepath, \"wb\") as f:\n",
    "\t# \t\tf.write(contents)\n",
    "\t# image_info = dict(img_info=dict(filename=r'C:\\Users\\user\\Documents\\GitHub\\mmclassification\\TB_Chest_Radiography_Database\\Tuberculosis\\CHNCXR_0600_1.png'), img_prefix=\"\")\n",
    "\t# image = preprocess_image(image_info)\n",
    "\t\n",
    "\t# image = np.array(image).reshape(3,image.shape[-1],image.shape[-1]).transpose(1,2,0)\n",
    "\t\n",
    "\n",
    "\tresult = inference_model(model, r'C:\\Users\\user\\Documents\\GitHub\\mmclassification\\TB_Chest_Radiography_Database\\Tuberculosis\\CHNCXR_0600_1.png')\n",
    "\tresult['pred_label'] = int(result['pred_label'])\n",
    "\t\"\"\"\n",
    "\tshow_image = Image.open(image_filepath).convert('RGB')\n",
    "\tbuffer = BytesIO()\n",
    "\tshow_image.save(buffer, format=file_ext[1:])\n",
    "\timg_base64 = base64.b64encode(buffer.getvalue()).decode()\n",
    "\tresult.update({\n",
    "\t\t'image' : img_base64\n",
    "\t})\n",
    "\t\"\"\"\n",
    "\n",
    "\treturn {\"result\": result}\n",
    "\n"
   ]
  },
  {
   "cell_type": "code",
   "execution_count": 9,
   "metadata": {},
   "outputs": [
    {
     "data": {
      "text/plain": [
       "{'result': {'pred_label': 1,\n",
       "  'pred_score': 0.9868778586387634,\n",
       "  'pred_class': 'Tuberculosis'}}"
      ]
     },
     "execution_count": 9,
     "metadata": {},
     "output_type": "execute_result"
    }
   ],
   "source": [
    "predict_image()"
   ]
  }
 ],
 "metadata": {
  "kernelspec": {
   "display_name": "mm",
   "language": "python",
   "name": "python3"
  },
  "language_info": {
   "codemirror_mode": {
    "name": "ipython",
    "version": 3
   },
   "file_extension": ".py",
   "mimetype": "text/x-python",
   "name": "python",
   "nbconvert_exporter": "python",
   "pygments_lexer": "ipython3",
   "version": "3.8.13"
  },
  "orig_nbformat": 4
 },
 "nbformat": 4,
 "nbformat_minor": 2
}
